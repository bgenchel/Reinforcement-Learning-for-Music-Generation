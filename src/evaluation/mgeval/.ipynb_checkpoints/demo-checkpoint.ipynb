{
 "cells": [
  {
   "cell_type": "markdown",
   "metadata": {
    "deletable": true,
    "editable": true
   },
   "source": [
    "# Usage Demo : \n"
   ]
  },
  {
   "cell_type": "code",
   "execution_count": 1,
   "metadata": {
    "collapsed": false,
    "deletable": true,
    "editable": true
   },
   "outputs": [],
   "source": [
    "import midi\n",
    "import glob\n",
    "import numpy as np\n",
    "import pretty_midi\n",
    "import seaborn as sns\n",
    "import matplotlib.pyplot as plt\n",
    "from mgeval import core, utils\n",
    "from sklearn.model_selection import LeaveOneOut"
   ]
  },
  {
   "cell_type": "markdown",
   "metadata": {
    "deletable": true,
    "editable": true
   },
   "source": [
    "## Absolute measurement: statistic analysis\n"
   ]
  },
  {
   "cell_type": "markdown",
   "metadata": {
    "deletable": true,
    "editable": true
   },
   "source": [
    "Assign dataset path"
   ]
  },
  {
   "cell_type": "code",
   "execution_count": 2,
   "metadata": {
    "collapsed": false,
    "deletable": true,
    "editable": true
   },
   "outputs": [],
   "source": [
    "set1 = glob.glob('../data/set1/*.mid')"
   ]
  },
  {
   "cell_type": "markdown",
   "metadata": {
    "deletable": true,
    "editable": true
   },
   "source": [
    "construct empty dictionary to fill in measurement across samples"
   ]
  },
  {
   "cell_type": "code",
   "execution_count": 3,
   "metadata": {
    "collapsed": true,
    "deletable": true,
    "editable": true
   },
   "outputs": [],
   "source": [
    "num_samples = 100"
   ]
  },
  {
   "cell_type": "code",
   "execution_count": 4,
   "metadata": {
    "collapsed": false,
    "deletable": true,
    "editable": true
   },
   "outputs": [],
   "source": [
    "set1_eval = {'total_used_pitch':np.zeros((num_samples,1))}\n",
    "metrics_list = set1_eval.keys()\n",
    "for i in range(0, num_samples):\n",
    "    pm_midi = pretty_midi.PrettyMIDI(set1[i])\n",
    "    piano_roll = pm_midi.instruments[0].get_piano_roll(fs=100)\n",
    "    set1_eval[metrics_list[0]][i] = getattr(core.metrics(), metrics_list[0])(piano_roll)"
   ]
  },
  {
   "cell_type": "markdown",
   "metadata": {
    "deletable": true,
    "editable": true
   },
   "source": [
    "repeat for second dataset"
   ]
  },
  {
   "cell_type": "code",
   "execution_count": 5,
   "metadata": {
    "collapsed": false,
    "deletable": true,
    "editable": true
   },
   "outputs": [],
   "source": [
    "set2 = glob.glob('../data/set2/*.mid')\n",
    "set2_eval = {'total_used_pitch':np.zeros((num_samples,1))}\n",
    "for i in range(0, num_samples):\n",
    "    pm_midi = pretty_midi.PrettyMIDI(set2[i])\n",
    "    piano_roll = pm_midi.instruments[0].get_piano_roll(fs=100)\n",
    "    set2_eval[metrics_list[0]][i] = getattr(core.metrics(), metrics_list[0])(piano_roll)"
   ]
  },
  {
   "cell_type": "markdown",
   "metadata": {
    "deletable": true,
    "editable": true
   },
   "source": [
    "statistic analysis: absolute measurement"
   ]
  },
  {
   "cell_type": "code",
   "execution_count": 6,
   "metadata": {
    "collapsed": false,
    "deletable": true,
    "editable": true
   },
   "outputs": [
    {
     "name": "stdout",
     "output_type": "stream",
     "text": [
      "total_used_pitch:\n",
      "------------------------\n",
      " demo_set\n",
      "  mean:  [6.87]\n",
      "  std:  [2.10549282]\n",
      "------------------------\n",
      " demo_set\n",
      "  mean:  [11.3]\n",
      "  std:  [1.96723156]\n"
     ]
    }
   ],
   "source": [
    "for i in range(0, len(metrics_list)):\n",
    "    print metrics_list[i] + ':'\n",
    "    print '------------------------'\n",
    "    print ' demo_set'\n",
    "    print '  mean: ', np.mean(set1_eval[metrics_list[i]], axis=0)\n",
    "    print '  std: ', np.std(set1_eval[metrics_list[i]], axis=0)\n",
    "\n",
    "    print '------------------------'\n",
    "    print ' demo_set'\n",
    "    print '  mean: ', np.mean(set2_eval[metrics_list[i]], axis=0)\n",
    "    print '  std: ', np.std(set2_eval[metrics_list[i]], axis=0)\n"
   ]
  },
  {
   "cell_type": "markdown",
   "metadata": {
    "deletable": true,
    "editable": true
   },
   "source": [
    "## Relative measurement: generalizes the result among features with various dimensions\n"
   ]
  },
  {
   "cell_type": "markdown",
   "metadata": {},
   "source": [
    "the features are sum- marized to \n",
    "- the intra-set distances\n",
    "- the difference of intra-set and inter-set distances."
   ]
  },
  {
   "cell_type": "markdown",
   "metadata": {
    "deletable": true,
    "editable": true
   },
   "source": [
    "exhaustive cross-validation for intra-set distances measurement"
   ]
  },
  {
   "cell_type": "code",
   "execution_count": 7,
   "metadata": {
    "collapsed": false,
    "deletable": true,
    "editable": true
   },
   "outputs": [],
   "source": [
    "loo = LeaveOneOut()\n",
    "loo.get_n_splits(np.arange(num_samples))\n",
    "set1_intra = np.zeros((num_samples, len(metrics_list), num_samples-1))\n",
    "set2_intra = np.zeros((num_samples, len(metrics_list), num_samples-1))\n",
    "for metric in metrics_list:\n",
    "    for train_index, test_index in loo.split(np.arange(num_samples)):\n",
    "        set1_intra[test_index[0]][0] = utils.c_dist(set1_eval[metric][test_index], set1_eval[metric][train_index])\n",
    "        set2_intra[test_index[0]][0] = utils.c_dist(set2_eval[metric][test_index], set2_eval[metric][train_index])\n"
   ]
  },
  {
   "cell_type": "markdown",
   "metadata": {
    "deletable": true,
    "editable": true
   },
   "source": [
    "exhaustive cross-validation for inter-set distances measurement"
   ]
  },
  {
   "cell_type": "code",
   "execution_count": 8,
   "metadata": {
    "collapsed": false,
    "deletable": true,
    "editable": true
   },
   "outputs": [],
   "source": [
    "loo = LeaveOneOut()\n",
    "loo.get_n_splits(np.arange(num_samples))\n",
    "sets_inter = np.zeros((num_samples, len(metrics_list), num_samples))\n",
    "\n",
    "for metric in metrics_list:\n",
    "    for train_index, test_index in loo.split(np.arange(num_samples)):\n",
    "        sets_inter[test_index[0]][0] = utils.c_dist(set1_eval[metric][test_index], set2_eval[metric])"
   ]
  },
  {
   "cell_type": "markdown",
   "metadata": {
    "deletable": true,
    "editable": true
   },
   "source": [
    "visualization of intra-set and inter-set distances"
   ]
  },
  {
   "cell_type": "code",
   "execution_count": null,
   "metadata": {
    "collapsed": false,
    "deletable": true,
    "editable": true
   },
   "outputs": [
    {
     "data": {
      "image/png": "[encoded data removed]",
      "text/plain": [
       "<matplotlib.figure.Figure at 0x10da8dc10>"
      ]
     },
     "metadata": {},
     "output_type": "display_data"
    }
   ],
   "source": [
    "plot_set1_intra = np.transpose(set1_intra,(1, 0, 2)).reshape(len(metrics_list), -1)\n",
    "plot_set2_intra = np.transpose(set2_intra,(1, 0, 2)).reshape(len(metrics_list), -1)\n",
    "plot_sets_inter = np.transpose(sets_inter,(1, 0, 2)).reshape(len(metrics_list), -1)\n",
    "for i in range(0,len(metrics_list)):\n",
    "    sns.kdeplot(plot_set1_intra[i], label='intra_set1')\n",
    "    sns.kdeplot(plot_sets_inter[i], label='inter')\n",
    "    sns.kdeplot(plot_set2_intra[i], label='intra_set2')\n",
    "\n",
    "    plt.title(metrics_list[i])\n",
    "    plt.xlabel('Euclidean distance')\n",
    "    plt.show()"
   ]
  },
  {
   "cell_type": "markdown",
   "metadata": {
    "deletable": true,
    "editable": true
   },
   "source": [
    "the difference of intra-set and inter-set distances."
   ]
  },
  {
   "cell_type": "code",
   "execution_count": null,
   "metadata": {
    "collapsed": false,
    "deletable": true,
    "editable": true
   },
   "outputs": [
    {
     "name": "stdout",
     "output_type": "stream",
     "text": [
      "total_used_pitch:\n",
      "------------------------\n",
      " demo_set1\n",
      "  Kullback–Leibler divergence: 0.254191068569358\n",
      "  Overlap area: 0.556180263718\n",
      " demo_set2\n",
      "  Kullback–Leibler divergence:"
     ]
    }
   ],
   "source": [
    "for i in range(0, len(metrics_list)):\n",
    "    print metrics_list[i] + ':'\n",
    "    print '------------------------'\n",
    "    print ' demo_set1'\n",
    "    print '  Kullback–Leibler divergence:',utils.kl_dist(plot_set1_intra[i], plot_sets_inter[i])\n",
    "    print '  Overlap area:', utils.overlap_area(plot_set1_intra[i], plot_sets_inter[i])\n",
    "    \n",
    "    print ' demo_set2'\n",
    "    print '  Kullback–Leibler divergence:',utils.kl_dist(plot_set2_intra[i], plot_sets_inter[i])\n",
    "    print '  Overlap area:', utils.overlap_area(plot_set2_intra[i], plot_sets_inter[i])\n",
    "    "
   ]
  },
  {
   "cell_type": "code",
   "execution_count": null,
   "metadata": {
    "collapsed": true,
    "deletable": true,
    "editable": true
   },
   "outputs": [],
   "source": []
  }
 ],
 "metadata": {
  "kernelspec": {
   "display_name": "Python 2",
   "language": "python",
   "name": "python2"
  },
  "language_info": {
   "codemirror_mode": {
    "name": "ipython",
    "version": 2
   },
   "file_extension": ".py",
   "mimetype": "text/x-python",
   "name": "python",
   "nbconvert_exporter": "python",
   "pygments_lexer": "ipython2",
   "version": "2.7.13"
  }
 },
 "nbformat": 4,
 "nbformat_minor": 2
}
